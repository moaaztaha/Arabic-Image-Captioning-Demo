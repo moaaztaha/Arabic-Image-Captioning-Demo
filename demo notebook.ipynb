{
 "cells": [
  {
   "cell_type": "code",
   "execution_count": 1,
   "id": "810eb12c",
   "metadata": {},
   "outputs": [
    {
     "name": "stderr",
     "output_type": "stream",
     "text": [
      "[2021-09-26 15:28:07,704 - farasapy_logger - WARNING]: Be careful with large lines as they may break on interactive mode. You may switch to Standalone mode for such cases.\n"
     ]
    }
   ],
   "source": [
    "from pathlib import Path\n",
    "from caption import caption_image"
   ]
  },
  {
   "cell_type": "code",
   "execution_count": 2,
   "id": "41bd7d5c",
   "metadata": {},
   "outputs": [
    {
     "name": "stdout",
     "output_type": "stream",
     "text": [
      "Model file exists!!!\n"
     ]
    }
   ],
   "source": [
    "# setting up the environment\n",
    "# downloading the model\n",
    "if Path('BEST_checkpoint_flickr8k_ar_arabert_finetune.pth.tar').is_file():\n",
    "    print(\"Model file exists!!!\")\n",
    "else:\n",
    "    print(\"Downloading model...\")\n",
    "    os.system('gdown --id 1-iVSv8ZVBEmPfe_1AbrshmNDqPZmE5-C')"
   ]
  },
  {
   "cell_type": "code",
   "execution_count": 3,
   "id": "39aa7341",
   "metadata": {},
   "outputs": [
    {
     "data": {
      "application/vnd.jupyter.widget-view+json": {
       "model_id": "c1286a57137b43cc84c475c3c434932c",
       "version_major": 2,
       "version_minor": 0
      },
      "text/plain": [
       "FileUpload(value={}, description='Upload')"
      ]
     },
     "metadata": {},
     "output_type": "display_data"
    }
   ],
   "source": [
    "from ipywidgets import FileUpload\n",
    "upload = FileUpload()\n",
    "upload"
   ]
  },
  {
   "cell_type": "code",
   "execution_count": 6,
   "id": "295614dc",
   "metadata": {},
   "outputs": [],
   "source": [
    "with open(\"test.png\", \"w+b\") as i:\n",
    "    i.write(upload.data[0])"
   ]
  },
  {
   "cell_type": "code",
   "execution_count": 7,
   "id": "04a07d75",
   "metadata": {},
   "outputs": [
    {
     "name": "stderr",
     "output_type": "stream",
     "text": [
      "100%|██████████| 24000/24000 [00:00<00:00, 310208.55it/s]\n"
     ]
    },
    {
     "name": "stdout",
     "output_type": "stream",
     "text": [
      "Loaded Checkpoint!!\n",
      "Last Epoch: 17\n",
      "Best Bleu-4: 25.49970489970383\n"
     ]
    },
    {
     "data": {
      "text/plain": [
       "'مجموعة من الناس في الشارع'"
      ]
     },
     "execution_count": 7,
     "metadata": {},
     "output_type": "execute_result"
    }
   ],
   "source": [
    "caption_image()"
   ]
  }
 ],
 "metadata": {
  "kernelspec": {
   "display_name": "Python 3",
   "language": "python",
   "name": "python3"
  },
  "language_info": {
   "codemirror_mode": {
    "name": "ipython",
    "version": 3
   },
   "file_extension": ".py",
   "mimetype": "text/x-python",
   "name": "python",
   "nbconvert_exporter": "python",
   "pygments_lexer": "ipython3",
   "version": "3.6.13"
  }
 },
 "nbformat": 4,
 "nbformat_minor": 5
}
