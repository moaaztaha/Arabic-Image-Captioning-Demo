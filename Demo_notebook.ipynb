{
  "nbformat": 4,
  "nbformat_minor": 5,
  "metadata": {
    "kernelspec": {
      "display_name": "Python 3",
      "language": "python",
      "name": "python3"
    },
    "language_info": {
      "codemirror_mode": {
        "name": "ipython",
        "version": 3
      },
      "file_extension": ".py",
      "mimetype": "text/x-python",
      "name": "python",
      "nbconvert_exporter": "python",
      "pygments_lexer": "ipython3",
      "version": "3.6.13"
    },
    "colab": {
      "name": "Demo notebook.ipynb",
      "provenance": [],
      "collapsed_sections": [],
      "include_colab_link": true
    },
    "widgets": {
      "application/vnd.jupyter.widget-state+json": {
        "c83318d2610c4a90a943268273f944cf": {
          "model_module": "@jupyter-widgets/controls",
          "model_name": "FileUploadModel",
          "model_module_version": "1.5.0",
          "state": {
            "_view_name": "FileUploadView",
            "_counter": 1,
            "style": "IPY_MODEL_1843791dab9647ba9d50c1dcb943ef8c",
            "_dom_classes": [],
            "description": "Upload",
            "multiple": false,
            "_model_name": "FileUploadModel",
            "data": [
              null
            ],
            "button_style": "",
            "_view_module": "@jupyter-widgets/controls",
            "_model_module_version": "1.5.0",
            "accept": "",
            "_view_count": null,
            "disabled": false,
            "_view_module_version": "1.5.0",
            "error": "",
            "description_tooltip": null,
            "metadata": [
              {
                "name": "99679241_adc853a5c0.jpg",
                "type": "image/jpeg",
                "size": 128165,
                "lastModified": 1587965396000
              }
            ],
            "_model_module": "@jupyter-widgets/controls",
            "layout": "IPY_MODEL_d8a10cc2269c484e96da08e26a9cb042",
            "icon": "upload"
          }
        },
        "1843791dab9647ba9d50c1dcb943ef8c": {
          "model_module": "@jupyter-widgets/controls",
          "model_name": "ButtonStyleModel",
          "model_module_version": "1.5.0",
          "state": {
            "_view_name": "StyleView",
            "_model_name": "ButtonStyleModel",
            "_view_module": "@jupyter-widgets/base",
            "_model_module_version": "1.5.0",
            "_view_count": null,
            "button_color": null,
            "font_weight": "",
            "_view_module_version": "1.2.0",
            "_model_module": "@jupyter-widgets/controls"
          }
        },
        "d8a10cc2269c484e96da08e26a9cb042": {
          "model_module": "@jupyter-widgets/base",
          "model_name": "LayoutModel",
          "model_module_version": "1.2.0",
          "state": {
            "_view_name": "LayoutView",
            "grid_template_rows": null,
            "right": null,
            "justify_content": null,
            "_view_module": "@jupyter-widgets/base",
            "overflow": null,
            "_model_module_version": "1.2.0",
            "_view_count": null,
            "flex_flow": null,
            "width": null,
            "min_width": null,
            "border": null,
            "align_items": null,
            "bottom": null,
            "_model_module": "@jupyter-widgets/base",
            "top": null,
            "grid_column": null,
            "overflow_y": null,
            "overflow_x": null,
            "grid_auto_flow": null,
            "grid_area": null,
            "grid_template_columns": null,
            "flex": null,
            "_model_name": "LayoutModel",
            "justify_items": null,
            "grid_row": null,
            "max_height": null,
            "align_content": null,
            "visibility": null,
            "align_self": null,
            "height": null,
            "min_height": null,
            "padding": null,
            "grid_auto_rows": null,
            "grid_gap": null,
            "max_width": null,
            "order": null,
            "_view_module_version": "1.2.0",
            "grid_template_areas": null,
            "object_position": null,
            "object_fit": null,
            "grid_auto_columns": null,
            "margin": null,
            "display": null,
            "left": null
          }
        }
      }
    }
  },
  "cells": [
    {
      "cell_type": "markdown",
      "metadata": {
        "id": "view-in-github",
        "colab_type": "text"
      },
      "source": [
        "<a href=\"https://colab.research.google.com/github/moaaztaha/Arabic-Image-Captioning-Demo/blob/main/Demo_notebook.ipynb\" target=\"_parent\"><img src=\"https://colab.research.google.com/assets/colab-badge.svg\" alt=\"Open In Colab\"/></a>"
      ]
    },
    {
      "cell_type": "code",
      "metadata": {
        "id": "w0Vh84DgVUX_"
      },
      "source": [
        "import os\n",
        "\n",
        "def setup():\n",
        "    print(\"Cloning repos....\")\n",
        "    os.system(\"git clone https://github.com/moaaztaha/Arabic-Image-Captioning-Demo\")\n",
        "    os.system(\"git clone https://github.com/aub-mind/arabert\")\n",
        "    os.system(\"mv  -v /content/Arabic-Image-Captioning-Demo/* .\")\n",
        "    os.system(\"pip install -r requirements.txt\")"
      ],
      "id": "w0Vh84DgVUX_",
      "execution_count": 1,
      "outputs": []
    },
    {
      "cell_type": "code",
      "metadata": {
        "colab": {
          "base_uri": "https://localhost:8080/"
        },
        "id": "n_lwMFEbVWqu",
        "outputId": "97e17051-d06f-4619-afc4-0df3ff2e5fc8"
      },
      "source": [
        "setup()"
      ],
      "id": "n_lwMFEbVWqu",
      "execution_count": 2,
      "outputs": [
        {
          "output_type": "stream",
          "name": "stdout",
          "text": [
            "Cloning repos....\n"
          ]
        }
      ]
    },
    {
      "cell_type": "code",
      "metadata": {
        "id": "810eb12c",
        "colab": {
          "base_uri": "https://localhost:8080/"
        },
        "outputId": "dd9af071-395b-4050-9d50-858d2e65dfda"
      },
      "source": [
        "from caption import caption_image\n",
        "from pathlib import Path"
      ],
      "id": "810eb12c",
      "execution_count": 3,
      "outputs": [
        {
          "output_type": "stream",
          "name": "stderr",
          "text": [
            "/usr/local/lib/python3.7/dist-packages/urllib3/connectionpool.py:847: InsecureRequestWarning: Unverified HTTPS request is being made. Adding certificate verification is strongly advised. See: https://urllib3.readthedocs.io/en/latest/advanced-usage.html#ssl-warnings\n",
            "  InsecureRequestWarning)\n"
          ]
        },
        {
          "output_type": "stream",
          "name": "stdout",
          "text": [
            "100%|██████████| 241M/241M [00:20<00:00, 11.7MiB/s]\n"
          ]
        },
        {
          "output_type": "stream",
          "name": "stderr",
          "text": [
            "[2021-09-26 13:54:14,432 - farasapy_logger - WARNING]: Be careful with large lines as they may break on interactive mode. You may switch to Standalone mode for such cases.\n"
          ]
        }
      ]
    },
    {
      "cell_type": "code",
      "metadata": {
        "id": "41bd7d5c",
        "colab": {
          "base_uri": "https://localhost:8080/"
        },
        "outputId": "745ebcbc-206b-408b-b510-a9e574c644a8"
      },
      "source": [
        "# setting up the environment\n",
        "# downloading the model\n",
        "if Path('BEST_checkpoint_flickr8k_ar_arabert_finetune.pth.tar').is_file():\n",
        "    print(\"Model file exists!!!\")\n",
        "else:\n",
        "    print(\"Downloading model...\")\n",
        "    os.system('gdown --id 1-iVSv8ZVBEmPfe_1AbrshmNDqPZmE5-C')"
      ],
      "id": "41bd7d5c",
      "execution_count": 4,
      "outputs": [
        {
          "output_type": "stream",
          "name": "stdout",
          "text": [
            "Downloading model...\n"
          ]
        }
      ]
    },
    {
      "cell_type": "code",
      "metadata": {
        "id": "39aa7341",
        "colab": {
          "base_uri": "https://localhost:8080/",
          "height": 49,
          "referenced_widgets": [
            "c83318d2610c4a90a943268273f944cf",
            "1843791dab9647ba9d50c1dcb943ef8c",
            "d8a10cc2269c484e96da08e26a9cb042"
          ]
        },
        "outputId": "2490e7b6-6bde-43ea-f1fc-fe5bf8dd879b"
      },
      "source": [
        "from ipywidgets import FileUpload\n",
        "upload = FileUpload()\n",
        "upload"
      ],
      "id": "39aa7341",
      "execution_count": 5,
      "outputs": [
        {
          "output_type": "display_data",
          "data": {
            "application/vnd.jupyter.widget-view+json": {
              "model_id": "c83318d2610c4a90a943268273f944cf",
              "version_minor": 0,
              "version_major": 2
            },
            "text/plain": [
              "FileUpload(value={}, description='Upload')"
            ]
          },
          "metadata": {}
        }
      ]
    },
    {
      "cell_type": "code",
      "metadata": {
        "id": "295614dc"
      },
      "source": [
        "with open(\"test.png\", \"w+b\") as i:\n",
        "    i.write(upload.data[0])"
      ],
      "id": "295614dc",
      "execution_count": 7,
      "outputs": []
    },
    {
      "cell_type": "code",
      "metadata": {
        "id": "04a07d75",
        "colab": {
          "base_uri": "https://localhost:8080/"
        },
        "outputId": "15f12210-3743-41cf-f377-bffa83775a49"
      },
      "source": [
        "output = caption_image()\n",
        "print(\"-\"*100)\n",
        "print(output)"
      ],
      "id": "04a07d75",
      "execution_count": 10,
      "outputs": [
        {
          "output_type": "stream",
          "name": "stderr",
          "text": [
            "100%|██████████| 24000/24000 [00:00<00:00, 176888.71it/s]\n"
          ]
        },
        {
          "output_type": "stream",
          "name": "stdout",
          "text": [
            "----------------------------------------------------------------------------------------------------\n",
            "طائر الطائرة في الماء\n"
          ]
        }
      ]
    }
  ]
}